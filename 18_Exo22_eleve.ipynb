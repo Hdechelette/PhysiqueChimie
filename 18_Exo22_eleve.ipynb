{
 "cells": [
  {
   "cell_type": "code",
   "execution_count": 4,
   "metadata": {},
   "outputs": [],
   "source": [
    "from IPython import get_ipython\n",
    "get_ipython().run_line_magic('matplotlib', 'qt')\n",
    "import matplotlib.pyplot as plt\n",
    "import numpy as np\n",
    "from matplotlib.widgets import Slider\n",
    "from matplotlib.gridspec import GridSpec\n",
    "#Fonction d'actualisation des courbes\n",
    "def update(val):\n",
    "    '''\n",
    "    Fonction qui permet d'actualiser la droite de modélisation\n",
    "     et son équation, en fonction de la valeur du curseur\n",
    "    '''\n",
    "    y1=A.val*np.cos(2*np.pi/T.val*time)\n",
    "    p1.set_ydata(y1)\n",
    "    y2=A.val*np.cos(2*np.pi/T.val*time+PHI.val)\n",
    "    p2.set_ydata(y2)\n",
    "    y3=A.val*np.cos(2*np.pi/T.val*time)+ A.val*np.cos(2*np.pi/T.val*time+PHI.val)\n",
    "    p3.set_ydata(y3)\n",
    "\n",
    "    \n",
    "#Conditions initiales\n",
    "initial_A = 1.00\n",
    "initial_T = 2.00\n",
    "initial_PHI = 1.00\n",
    "# Définitions des courbes\n",
    "time=np.linspace(0.,20.,2000)\n",
    "y1=initial_A*np.cos(2*np.pi/initial_T*time)\n",
    "y2=initial_A*np.cos(2 * np.pi / initial_T * time + initial_PHI)\n",
    "y3=y1+y2\n",
    "#Tracé des courbes\n",
    "G = GridSpec(10, 8)\n",
    "fig, ax = plt.subplots(figsize=(12,8))\n",
    "axes_1 = plt.subplot(G[:-3, :])\n",
    "plt.axis([0,20,-10,10])\n",
    "plt.xlabel('$t$ (s)')\n",
    "plt.ylabel('Amplitude ')\n",
    "plt.title('Somme de deux ondes sinusoïdales synchrones ')\n",
    "plt.grid()\n",
    "p1, = plt.plot(time, y1, '-g',label=r'$y_1 = A \\times \\cos( \\frac{2\\pi}{T}\\times t)$')\n",
    "p2, = plt.plot(time, y2, '-b',label=r'$y_2 = A \\times \\cos( \\frac{2\\pi}{T}\\times t + \\Phi)$')\n",
    "p3, =  plt.plot(time, y3, '-r',label=r'$y_3= y_1 + y_2$')\n",
    "plt.legend()\n",
    "################################################################################\n",
    "#Sliders\n",
    "################################################################################\n",
    "# Création d'un curseur, noté T, avec la position et les dimensions de ce curseur (rectangle_a)\n",
    "rectangle_a = plt.axes([0.25, 0.1, 0.5, 0.02])\n",
    "T = Slider(rectangle_a, 'Période $T$ (s)', 1,10, valinit=initial_T)\n",
    "# Création d'un curseur, noté A, avec la position et les dimensions de ce curseur (rectangle-b)\n",
    "rectangle_b = plt.axes([0.25, 0.155, 0.5, 0.02])\n",
    "A = Slider(rectangle_b, 'Amplitude $A$ (m)', 0, 5, valinit=initial_A)\n",
    "# Création d'un curseur, noté PHI, avec la position et les dimensions de ce curseur (rectangle_c)\n",
    "rectangle_c = plt.axes([0.25, 0.210, 0.5, 0.02])\n",
    "PHI = Slider(rectangle_c, 'Phase $\\phi$ (rad)', 0, 5, valinit=initial_PHI)\n",
    "# appel de la fonction update lorsque le curseur est actionné\n",
    "A.on_changed(update)\n",
    "T.on_changed(update)\n",
    "PHI.on_changed(update)\n",
    "#Affichage\n",
    "plt.show()"
   ]
  },
  {
   "cell_type": "code",
   "execution_count": null,
   "metadata": {},
   "outputs": [],
   "source": []
  }
 ],
 "metadata": {
  "kernelspec": {
   "display_name": "Python 3",
   "language": "python",
   "name": "python3"
  },
  "language_info": {
   "codemirror_mode": {
    "name": "ipython",
    "version": 3
   },
   "file_extension": ".py",
   "mimetype": "text/x-python",
   "name": "python",
   "nbconvert_exporter": "python",
   "pygments_lexer": "ipython3",
   "version": "3.8.3"
  },
  "latex_envs": {
   "LaTeX_envs_menu_present": true,
   "autoclose": false,
   "autocomplete": true,
   "bibliofile": "biblio.bib",
   "cite_by": "apalike",
   "current_citInitial": 1,
   "eqLabelWithNumbers": true,
   "eqNumInitial": 1,
   "hotkeys": {
    "equation": "Ctrl-E",
    "itemize": "Ctrl-I"
   },
   "labels_anchors": false,
   "latex_user_defs": false,
   "report_style_numbering": false,
   "user_envs_cfg": false
  }
 },
 "nbformat": 4,
 "nbformat_minor": 4
}
